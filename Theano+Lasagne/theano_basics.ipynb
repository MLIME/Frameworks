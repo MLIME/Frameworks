{
 "cells": [
  {
   "cell_type": "markdown",
   "metadata": {},
   "source": [
    "## Theano Tutorial: Basics\n",
    "\n",
    "Theano is a library that adds a mathematical background to Python, primarily focused on the calculus of mathematical expressions involving matrices and tensors. It is one of Tensorflow's \"competitors\" \n",
    "\n",
    "Pros:\n",
    "* Simpler\n",
    "* More open to different hardware (libgpuarray como padrão)\n",
    "* Numpy integration\n",
    "* Compiled (?)\n",
    "\n",
    "Cons:\n",
    "* Smaller community\n",
    "* No Sessions\n",
    "* No TensorBoard\n",
    "* Compiled (?)"
   ]
  },
  {
   "cell_type": "code",
   "execution_count": 2,
   "metadata": {},
   "outputs": [],
   "source": [
    "from theano import *\n",
    "import theano.tensor as T\n",
    "import numpy as np #np.arrays are used for input and output"
   ]
  },
  {
   "cell_type": "markdown",
   "metadata": {
    "collapsed": true
   },
   "source": [
    "### Theano\n",
    "Theano's workflow is similar to Tensorflow's:\n",
    "\n",
    "We first describe a computation graph\n",
    "\n",
    "It is statically typed: we have to define the variables type and they don't change\n",
    "\n",
    "Then the function \"theano.function\" compiles and prepares the graph for use, returning a function that can be normally called in python"
   ]
  },
  {
   "cell_type": "code",
   "execution_count": 3,
   "metadata": {
    "collapsed": true
   },
   "outputs": [],
   "source": [
    "#Define a computational graph\n",
    "x = T.dscalar()\n",
    "y = T.dscalar()\n",
    "z = x + y\n",
    "f = function([x,y], z) #Compile in C"
   ]
  },
  {
   "cell_type": "code",
   "execution_count": 4,
   "metadata": {},
   "outputs": [
    {
     "name": "stdout",
     "output_type": "stream",
     "text": [
      "<theano.compile.function_module.Function object at 0x7f43088ca240>\n",
      "Elemwise{add,no_inplace}.0\n",
      "3.0\n",
      "3.0\n"
     ]
    }
   ],
   "source": [
    "print(f)\n",
    "print(z)\n",
    "print(f(1, 2))\n",
    "print(z.eval({x: 1, y: 2})) #eval does not compile, but it's not very flexible"
   ]
  },
  {
   "cell_type": "markdown",
   "metadata": {},
   "source": [
    "### Vectors and Matrices\n",
    "Example: $Ax + b$"
   ]
  },
  {
   "cell_type": "code",
   "execution_count": 5,
   "metadata": {
    "collapsed": true
   },
   "outputs": [],
   "source": [
    "A = T.dmatrix('A')\n",
    "x = T.dvector('x')\n",
    "b = T.dvector('b')\n",
    "z = theano.dot(A, x) + b \n",
    "f = function([A, x, b], z)"
   ]
  },
  {
   "cell_type": "code",
   "execution_count": 6,
   "metadata": {},
   "outputs": [
    {
     "data": {
      "text/plain": [
       "array([ 2.,  0.])"
      ]
     },
     "execution_count": 6,
     "metadata": {},
     "output_type": "execute_result"
    }
   ],
   "source": [
    "A = np.array([[1, -1], [-1, 1]])\n",
    "x = np.array([2, 1])\n",
    "b = np.array([1, 1])\n",
    "f(A, x, b)"
   ]
  },
  {
   "cell_type": "markdown",
   "metadata": {},
   "source": [
    "### Types of Variables\n",
    "Prefix: size and type\n",
    "* b = byte\n",
    "* w = 16bits integer\n",
    "* i = 32bits integer\n",
    "* l = 64bits integer\n",
    "* f = float\n",
    "* d = double\n",
    "* c = complex number\n",
    "\n",
    "Radical: form\n",
    "    \n",
    "scalar, vector, matrix, row, col, tensor3, tensor4, tensor5"
   ]
  },
  {
   "cell_type": "markdown",
   "metadata": {},
   "source": [
    "### Variables with Inner State"
   ]
  },
  {
   "cell_type": "markdown",
   "metadata": {},
   "source": [
    "Shared variables are symbolic (may be used to construct the computational graph) and non-symbolic (can act as normal variables by using the get_value() and set_value() methods)"
   ]
  },
  {
   "cell_type": "code",
   "execution_count": 8,
   "metadata": {
    "collapsed": true
   },
   "outputs": [],
   "source": [
    "from theano import shared\n",
    "count = shared(0) #Creates a shareable \"0\"\n",
    "inc = T.iscalar()\n",
    "result = count + inc\n",
    "acc = function([inc], result)"
   ]
  },
  {
   "cell_type": "code",
   "execution_count": 9,
   "metadata": {},
   "outputs": [
    {
     "name": "stdout",
     "output_type": "stream",
     "text": [
      "1\n",
      "0\n"
     ]
    }
   ],
   "source": [
    "print(acc(1))\n",
    "print(count.get_value())"
   ]
  },
  {
   "cell_type": "code",
   "execution_count": 10,
   "metadata": {},
   "outputs": [
    {
     "name": "stdout",
     "output_type": "stream",
     "text": [
      "1\n",
      "2\n",
      "12\n"
     ]
    }
   ],
   "source": [
    "count.set_value(acc(1))\n",
    "print(count.get_value())\n",
    "count.set_value(acc(1))\n",
    "print(count.get_value())\n",
    "count.set_value(acc(10))\n",
    "print(count.get_value())"
   ]
  },
  {
   "cell_type": "markdown",
   "metadata": {},
   "source": [
    "This update logic may be included in the function itself by using the optional \"updates\" argument in theano.function. It receives a list of (shared variable, mathematical expression of update) pairs and executes the update after the computation is over"
   ]
  },
  {
   "cell_type": "code",
   "execution_count": 11,
   "metadata": {
    "collapsed": true
   },
   "outputs": [],
   "source": [
    "count = shared(0)\n",
    "inc = T.iscalar()\n",
    "acc = function([inc], count + inc, updates=[(count, count + inc)])"
   ]
  },
  {
   "cell_type": "code",
   "execution_count": 12,
   "metadata": {},
   "outputs": [
    {
     "name": "stdout",
     "output_type": "stream",
     "text": [
      "1\n",
      "2\n",
      "22\n",
      "22\n"
     ]
    }
   ],
   "source": [
    "print(acc(1))\n",
    "print(acc(1))\n",
    "print(acc(20))\n",
    "print(count.get_value())"
   ]
  },
  {
   "cell_type": "markdown",
   "metadata": {},
   "source": [
    "### Random Variables\n",
    "A special kind of shared variable. It is a stream of random numbers, called when needed. By default they are updated as to generate a random number each time"
   ]
  },
  {
   "cell_type": "code",
   "execution_count": 13,
   "metadata": {
    "collapsed": true
   },
   "outputs": [],
   "source": [
    "from theano.tensor.shared_randomstreams import RandomStreams\n",
    "srng = RandomStreams(seed=0) \n",
    "num = srng.uniform()\n",
    "f = function([], num)\n",
    "g = function([], num, no_default_updates=True)"
   ]
  },
  {
   "cell_type": "code",
   "execution_count": 14,
   "metadata": {},
   "outputs": [
    {
     "name": "stdout",
     "output_type": "stream",
     "text": [
      "Update generator\n",
      "0.48604732751846313\n",
      "0.6857123374938965\n",
      "0.9855760335922241\n",
      "\n",
      "Do not update gerador\n",
      "0.19559641182422638\n",
      "0.19559641182422638\n",
      "0.19559641182422638\n"
     ]
    }
   ],
   "source": [
    "print(\"Update generator\")\n",
    "for _ in range(3):\n",
    "    print(f())\n",
    "print(\"\\nDo not update gerador\")\n",
    "for _ in range(3):\n",
    "    print(g())"
   ]
  },
  {
   "cell_type": "markdown",
   "metadata": {},
   "source": [
    "### Gradients and Derivation (Basic)"
   ]
  },
  {
   "cell_type": "markdown",
   "metadata": {},
   "source": [
    "The graph format makes it specially easy to calculate derivatives and gradients by chain rule, given that each node is a simple operation that is composed with others to create a complex expression (see: http://cs231n.github.io/optimization-2/ )\n",
    "\n",
    "With that, Theano's \"grad\" function can simbolically calculate the gradient or derivative of a function:"
   ]
  },
  {
   "cell_type": "code",
   "execution_count": 18,
   "metadata": {},
   "outputs": [
    {
     "data": {
      "text/plain": [
       "'((fill((x ** TensorConstant{2}), TensorConstant{1.0}) * TensorConstant{2}) * (x ** (TensorConstant{2} - TensorConstant{1})))'"
      ]
     },
     "execution_count": 18,
     "metadata": {},
     "output_type": "execute_result"
    }
   ],
   "source": [
    "from theano import pp #pretty print\n",
    "x = T.dscalar('x')\n",
    "y = x ** 2 \n",
    "dy = T.grad(y, x) #dy/dx\n",
    "f = theano.function([x], dy)\n",
    "pp(dy)"
   ]
  },
  {
   "cell_type": "code",
   "execution_count": 20,
   "metadata": {},
   "outputs": [
    {
     "name": "stdout",
     "output_type": "stream",
     "text": [
      "-0.2222222222222222 -inf -6.0\n"
     ]
    }
   ],
   "source": [
    "print(f(3), f(0), f(1))"
   ]
  },
  {
   "cell_type": "code",
   "execution_count": null,
   "metadata": {
    "collapsed": true
   },
   "outputs": [],
   "source": []
  }
 ],
 "metadata": {
  "kernelspec": {
   "display_name": "Python 3",
   "language": "python",
   "name": "python3"
  },
  "language_info": {
   "codemirror_mode": {
    "name": "ipython",
    "version": 3
   },
   "file_extension": ".py",
   "mimetype": "text/x-python",
   "name": "python",
   "nbconvert_exporter": "python",
   "pygments_lexer": "ipython3",
   "version": "3.6.1"
  }
 },
 "nbformat": 4,
 "nbformat_minor": 2
}
