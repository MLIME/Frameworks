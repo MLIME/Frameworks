{
 "cells": [
  {
   "cell_type": "markdown",
   "metadata": {
    "deletable": true,
    "editable": true
   },
   "source": [
    "# Neural network\n",
    "\n",
    "An example of a feedforward neural network. We use the [MNIST](http://yann.lecun.com/exdb/mnist/) dataset to train the model in tensorflow."
   ]
  },
  {
   "cell_type": "markdown",
   "metadata": {
    "deletable": true,
    "editable": true
   },
   "source": [
    "## We will build a 2-layer neural network of the form:"
   ]
  },
  {
   "cell_type": "markdown",
   "metadata": {
    "deletable": true,
    "editable": true
   },
   "source": [
    "![image](./images/NN2.png)"
   ]
  },
  {
   "cell_type": "code",
   "execution_count": 1,
   "metadata": {
    "collapsed": false,
    "deletable": true,
    "editable": true
   },
   "outputs": [],
   "source": [
    "import numpy as np\n",
    "import tensorflow as tf\n",
    "import os\n",
    "from util import get_log_path, plot15images, plotconfusion\n",
    "from tensorflow.examples.tutorials.mnist import input_data\n",
    "\n",
    "%matplotlib inline\n"
   ]
  },
  {
   "cell_type": "markdown",
   "metadata": {
    "deletable": true,
    "editable": true
   },
   "source": [
    "## We use the class Config to store all the hyperparameters"
   ]
  },
  {
   "cell_type": "code",
   "execution_count": 2,
   "metadata": {
    "collapsed": false,
    "deletable": true,
    "editable": true
   },
   "outputs": [],
   "source": [
    "class Config():\n",
    "    \"\"\"\n",
    "    Class to hold all model hyperparams.\n",
    "\n",
    "    :type learning_rate: float\n",
    "    :type batch_size: int\n",
    "    :type image_size: int\n",
    "    :type num_classes: int\n",
    "    :type num_features: int\n",
    "    :type num_epochs: int\n",
    "    :type show_epoch: int\n",
    "    :type log_path: None or str\n",
    "    \"\"\"\n",
    "    def __init__(self,\n",
    "                 learning_rate=0.001,\n",
    "                 image_size=28,\n",
    "                 batch_size=128,\n",
    "                 num_classes=10,\n",
    "                 num_features=784,\n",
    "                 num_epochs=101,\n",
    "                 show_epoch=10,\n",
    "                 hidden_nodes_1=100,\n",
    "                 hidden_nodes_2=50,\n",
    "                 log_path=None):\n",
    "\n",
    "        self.learning_rate = learning_rate\n",
    "        self.image_size = image_size\n",
    "        self.batch_size = batch_size\n",
    "        self.num_classes = num_classes\n",
    "        self.num_features = num_features\n",
    "        self.num_epochs = num_epochs\n",
    "        self.show_epoch = show_epoch\n",
    "        self.hidden_nodes_1 = hidden_nodes_1\n",
    "        self.hidden_nodes_2 = hidden_nodes_2\n",
    "        if log_path is None:\n",
    "            self.log_path = get_log_path()\n",
    "        else:\n",
    "            self.log_path = log_path"
   ]
  },
  {
   "cell_type": "markdown",
   "metadata": {
    "deletable": true,
    "editable": true
   },
   "source": [
    "## Tensorflow functions"
   ]
  },
  {
   "cell_type": "code",
   "execution_count": 3,
   "metadata": {
    "collapsed": true,
    "deletable": true,
    "editable": true
   },
   "outputs": [],
   "source": [
    "def init_wb(shape, name):\n",
    "    \"\"\"\n",
    "    Function initialize one matrix of weights and one bias vector.\n",
    "\n",
    "    :type shape: tuple\n",
    "    :type name: str\n",
    "    :rtype: dictionary\n",
    "    \"\"\"\n",
    "    Winit = tf.truncated_normal(shape, mean=0, stddev=0.1)\n",
    "    binit = tf.zeros(shape[-1])\n",
    "    layer = {}\n",
    "    layer[\"weights\"] = tf.get_variable(name + \"/weights\",\n",
    "                                       dtype=tf.float32,\n",
    "                                       initializer=Winit)\n",
    "    layer[\"bias\"] = tf.get_variable(name + \"/bias\",\n",
    "                                    dtype=tf.float32,\n",
    "                                    initializer=binit)\n",
    "    return layer\n",
    "\n",
    "def linear_activation(input_tensor, layer):\n",
    "    \"\"\"\n",
    "    Function that applies the linear activation in the input tensor.\n",
    "\n",
    "    :type input_tensor: tf tensor\n",
    "    :type layer: dictionary\n",
    "    :rtype: tf tensor\n",
    "    \"\"\"\n",
    "    return tf.add(tf.matmul(input_tensor, layer['weights']),\n",
    "                  layer['bias'])"
   ]
  },
  {
   "cell_type": "markdown",
   "metadata": {
    "deletable": true,
    "editable": true
   },
   "source": [
    "## Defining a neural network as a tensorflow graph"
   ]
  },
  {
   "cell_type": "code",
   "execution_count": 4,
   "metadata": {
    "collapsed": false,
    "deletable": true,
    "editable": true
   },
   "outputs": [],
   "source": [
    "class NeuralNetwork:\n",
    "    \"\"\"\n",
    "    Neural network model with 2 hidden layers.\n",
    "\n",
    "    :type config: Config\n",
    "    \"\"\"\n",
    "    def __init__(self, config):\n",
    "\n",
    "        self.learning_rate = config.learning_rate\n",
    "        self.log_path = config.log_path\n",
    "        self.batch_size = config.batch_size\n",
    "        self.num_classes = config.num_classes\n",
    "        self.num_features = config.num_features\n",
    "        self.hidden_nodes_1 = config.hidden_nodes_1\n",
    "        self.hidden_nodes_2 = config.hidden_nodes_2\n",
    "        self.build_graph()\n",
    "\n",
    "    def create_placeholders(self):\n",
    "        \"\"\"\n",
    "        Method for creating the placeholder for input X (image).\n",
    "        \"\"\"\n",
    "        with tf.variable_scope('Input_layer'):\n",
    "            self.X = tf.placeholder(tf.float32,\n",
    "                                    shape=(self.batch_size, self.num_features),\n",
    "                                    name=\"X\")\n",
    "\n",
    "    def create_logits(self):\n",
    "        \"\"\"\n",
    "        Method for creating logits:\n",
    "        logits = relu(relu(xW_1 + b_1)W_2 + b_2)\n",
    "        \"\"\"\n",
    "        with tf.variable_scope('Hidden_Layer1'):\n",
    "            shape1 = [self.num_features, self.hidden_nodes_1]\n",
    "            self.hidden_layer_1_wb = init_wb(shape1,\n",
    "                                             'Params')\n",
    "            linear1 = linear_activation(self.X, self.hidden_layer_1_wb)\n",
    "            hidden_layer_1 = tf.nn.relu(linear1)\n",
    "        with tf.variable_scope('Hidden_Layer2'):\n",
    "            shape2 = [self.hidden_nodes_1, self.hidden_nodes_2]\n",
    "            self.hidden_layer_2_wb = init_wb(shape2,\n",
    "                                             'Params')\n",
    "            linear2 = linear_activation(hidden_layer_1,\n",
    "                                        self.hidden_layer_2_wb)\n",
    "            hidden_layer_2 = tf.nn.relu(linear2)\n",
    "        with tf.variable_scope('Output_Layer'):\n",
    "            shape3 = [self.hidden_nodes_2, self.num_classes]\n",
    "            self.hidden_layer_3_wb = init_wb(shape3,\n",
    "                                             'Params')\n",
    "            self.logits = linear_activation(hidden_layer_2,\n",
    "                                            self.hidden_layer_3_wb)\n",
    "\n",
    "    def create_summaries(self):\n",
    "        \"\"\"\n",
    "        Method to create the histogram summaries for all weights\n",
    "        \"\"\"\n",
    "        tf.summary.histogram('weights1_summ',\n",
    "                             self.hidden_layer_1_wb['weights'])\n",
    "        tf.summary.histogram('weights2_summ',\n",
    "                             self.hidden_layer_2_wb['weights'])\n",
    "        tf.summary.histogram('weights3_summ',\n",
    "                             self.hidden_layer_3_wb['weights'])\n",
    "\n",
    "    def create_loss(self):\n",
    "        \"\"\"\n",
    "        Method for calculating the loss function\n",
    "        unsing softmax and cross entropy.\n",
    "        \"\"\"\n",
    "        with tf.name_scope(\"loss\"):\n",
    "            self.Y = tf.placeholder(tf.float32,\n",
    "                                    shape=(self.batch_size, self.num_classes),\n",
    "                                    name=\"Y\")\n",
    "            entropy_loss = tf.nn.softmax_cross_entropy_with_logits(logits=self.logits,\n",
    "                                                                   labels=self.Y)\n",
    "            self.loss = tf.reduce_mean(entropy_loss)\n",
    "            tf.summary.scalar(\"loss\", self.loss)\n",
    "\n",
    "    def create_optimizer(self):\n",
    "        \"\"\"\n",
    "        Method to create the optimizer of the graph\n",
    "        \"\"\"\n",
    "        with tf.name_scope(\"optimizer\"):\n",
    "            opt = tf.train.GradientDescentOptimizer(self.learning_rate)\n",
    "            self.optimizer = opt.minimize(self.loss)\n",
    "\n",
    "    def create_predictions(self):\n",
    "        \"\"\"\n",
    "        Method to create the prediction for the placeholder.\n",
    "        \"\"\"\n",
    "        with tf.name_scope(\"prediction\"):\n",
    "            prob_prediction = tf.nn.softmax(self.logits,\n",
    "                                            name='X_prob_prediction')\n",
    "            self.prediction = tf.argmax(prob_prediction,\n",
    "                                        1,\n",
    "                                        name='X_prediction')\n",
    "            self.labes_cls = tf.argmax(self.Y,\n",
    "                                       1,\n",
    "                                       name='ground_truth')\n",
    "\n",
    "    def create_accuracy(self):\n",
    "        \"\"\"\n",
    "        Method to compute the accuracy of the model's predictions\n",
    "        \"\"\"\n",
    "        with tf.name_scope('accuracy'):\n",
    "            correct_pred = tf.equal(self.prediction,\n",
    "                                    self.labes_cls)\n",
    "            self.acc = tf.reduce_mean(tf.cast(correct_pred, 'float'))\n",
    "            tf.summary.scalar('accuracy', self.acc)\n",
    "\n",
    "    def create_saver(self):\n",
    "        \"\"\"\n",
    "        Method to create the graph saver.\n",
    "        \"\"\"\n",
    "        self.saver = tf.train.Saver()\n",
    "        save_dir = 'checkpoints/'\n",
    "        if not os.path.exists(save_dir):\n",
    "            os.makedirs(save_dir)\n",
    "        self.save_path = os.path.join(save_dir, 'best_validation')\n",
    "\n",
    "    def build_graph(self):\n",
    "        \"\"\"\n",
    "        Method to build the computation graph in tensorflow\n",
    "        \"\"\"\n",
    "        self.graph = tf.Graph()\n",
    "        with self.graph.as_default():\n",
    "            self.create_placeholders()\n",
    "            self.create_logits()\n",
    "            self.create_summaries()\n",
    "            self.create_loss()\n",
    "            self.create_optimizer()\n",
    "            self.create_predictions()\n",
    "            self.create_accuracy()\n",
    "            self.create_saver()"
   ]
  },
  {
   "cell_type": "markdown",
   "metadata": {
    "deletable": true,
    "editable": true
   },
   "source": [
    "## Using tensorboard to visualize the graph:"
   ]
  },
  {
   "cell_type": "markdown",
   "metadata": {
    "deletable": true,
    "editable": true
   },
   "source": [
    "\n",
    "![image](./images/graph_NN.png)"
   ]
  },
  {
   "cell_type": "markdown",
   "metadata": {
    "deletable": true,
    "editable": true
   },
   "source": [
    "## Function to train the model"
   ]
  },
  {
   "cell_type": "code",
   "execution_count": 5,
   "metadata": {
    "collapsed": true,
    "deletable": true,
    "editable": true
   },
   "outputs": [],
   "source": [
    "def run_training(model, config, mnist, verbose=True):\n",
    "    \"\"\"\n",
    "    Train the logistic regression model\n",
    "\n",
    "    :type model: NeuralNetwork\n",
    "    :type config: Config\n",
    "    :type mnist: tensorflow.contrib.learn.python.learn.datasets.mnist.DataSet\n",
    "    :type verbose: boolean\n",
    "    \"\"\"\n",
    "\n",
    "    num_samples = mnist.train.images.shape[0]\n",
    "    batch_size = config.batch_size\n",
    "    show_epoch = config.show_epoch\n",
    "    num_epochs = config.num_epochs\n",
    "    log_path = model.log_path\n",
    "    with tf.Session(graph=model.graph) as sess:\n",
    "        if verbose:\n",
    "            print('Start training\\n')\n",
    "        summary_writer = tf.summary.FileWriter(log_path, sess.graph)\n",
    "        all_summaries = tf.summary.merge_all()\n",
    "        tf.global_variables_initializer().run()\n",
    "        step = 0\n",
    "        best_valid_acc = 0\n",
    "        num_batches = int(num_samples / batch_size)\n",
    "        for i in range(num_epochs):\n",
    "            total_loss = 0\n",
    "            for _ in range(num_batches):\n",
    "                step += 1\n",
    "                X_batch, Y_batch = mnist.train.next_batch(batch_size)\n",
    "                feed_dict = {model.X: X_batch, model.Y: Y_batch}\n",
    "                _, loss_batch, acc, summary = sess.run([model.optimizer,\n",
    "                                                        model.loss,\n",
    "                                                        model.acc,\n",
    "                                                        all_summaries],\n",
    "                                                        feed_dict=feed_dict)\n",
    "                summary_writer.add_summary(summary, step)\n",
    "                summary_writer.flush()\n",
    "                total_loss += loss_batch\n",
    "            if i % show_epoch == 0:\n",
    "                X_batch_valid, Y_batch_valid = mnist.validation.next_batch(batch_size)\n",
    "                feed_dict = {model.X: X_batch_valid, model.Y: Y_batch_valid}\n",
    "                valid_acc = sess.run(model.acc, feed_dict=feed_dict)\n",
    "                print('Average loss epoch {0}: {1}'.format(i, total_loss / num_batches))\n",
    "                print('Minibatch acc epoch {}: {:.2f}%'.format(i, acc * 100))\n",
    "                print('Valid minibatch acc epoch {}: {:.2f}%\\n'.format(i, valid_acc * 100))\n",
    "                if valid_acc > best_valid_acc:\n",
    "                        best_valid_test = valid_acc\n",
    "                        model.saver.save(sess=sess,\n",
    "                                         save_path=model.save_path)\n",
    "        if verbose:\n",
    "            print(\"\\n========= For TensorBoard visualization type ===========\")\n",
    "            print(\"\\ntensorboard  --logdir={}\\n\".format(log_path))"
   ]
  },
  {
   "cell_type": "markdown",
   "metadata": {
    "deletable": true,
    "editable": true
   },
   "source": [
    "## Loading the data"
   ]
  },
  {
   "cell_type": "code",
   "execution_count": 6,
   "metadata": {
    "collapsed": false,
    "deletable": true,
    "editable": true
   },
   "outputs": [
    {
     "name": "stdout",
     "output_type": "stream",
     "text": [
      "Successfully downloaded train-images-idx3-ubyte.gz 9912422 bytes.\n",
      "Extracting MNIST_data/train-images-idx3-ubyte.gz\n",
      "Successfully downloaded train-labels-idx1-ubyte.gz 28881 bytes.\n",
      "Extracting MNIST_data/train-labels-idx1-ubyte.gz\n",
      "Successfully downloaded t10k-images-idx3-ubyte.gz 1648877 bytes.\n",
      "Extracting MNIST_data/t10k-images-idx3-ubyte.gz\n",
      "Successfully downloaded t10k-labels-idx1-ubyte.gz 4542 bytes.\n",
      "Extracting MNIST_data/t10k-labels-idx1-ubyte.gz\n"
     ]
    }
   ],
   "source": [
    "config = Config(num_epochs=51, show_epoch=10)\n",
    "model = NeuralNetwork(config)\n",
    "mnist = input_data.read_data_sets(\"MNIST_data/\", one_hot=True)"
   ]
  },
  {
   "cell_type": "code",
   "execution_count": 7,
   "metadata": {
    "collapsed": false
   },
   "outputs": [
    {
     "data": {
      "text/plain": [
       "(55000, 784)"
      ]
     },
     "execution_count": 7,
     "metadata": {},
     "output_type": "execute_result"
    }
   ],
   "source": [
    "mnist.train.images.shape"
   ]
  },
  {
   "cell_type": "markdown",
   "metadata": {
    "deletable": true,
    "editable": true
   },
   "source": [
    "## Visualizing some examples from the validation set"
   ]
  },
  {
   "cell_type": "code",
   "execution_count": 8,
   "metadata": {
    "collapsed": false,
    "deletable": true,
    "editable": true
   },
   "outputs": [
    {
     "data": {
      "image/png": "[encoded data removed]",
      "text/plain": [
       "<matplotlib.figure.Figure at 0x7f843b991e48>"
      ]
     },
     "metadata": {},
     "output_type": "display_data"
    }
   ],
   "source": [
    "images, labels = mnist.validation.next_batch(15)\n",
    "cls_true = np.argmax(labels, axis=1)\n",
    "img_shape = (28, 28)\n",
    "plot15images(images, cls_true, img_shape)"
   ]
  },
  {
   "cell_type": "markdown",
   "metadata": {
    "deletable": true,
    "editable": true
   },
   "source": [
    "## Training the model"
   ]
  },
  {
   "cell_type": "code",
   "execution_count": 9,
   "metadata": {
    "collapsed": false,
    "deletable": true,
    "editable": true
   },
   "outputs": [
    {
     "name": "stdout",
     "output_type": "stream",
     "text": [
      "Start training\n",
      "\n",
      "Average loss epoch 0: 2.2942973166912584\n",
      "Minibatch acc epoch 0: 21.09%\n",
      "Valid minibatch acc epoch 0: 16.41%\n",
      "\n",
      "Average loss epoch 10: 1.1496586289717046\n",
      "Minibatch acc epoch 10: 74.22%\n",
      "Valid minibatch acc epoch 10: 74.22%\n",
      "\n",
      "Average loss epoch 20: 0.592511120792869\n",
      "Minibatch acc epoch 20: 85.16%\n",
      "Valid minibatch acc epoch 20: 82.03%\n",
      "\n",
      "Average loss epoch 30: 0.4690454591821124\n",
      "Minibatch acc epoch 30: 88.28%\n",
      "Valid minibatch acc epoch 30: 90.62%\n",
      "\n",
      "Average loss epoch 40: 0.41379398913372367\n",
      "Minibatch acc epoch 40: 89.84%\n",
      "Valid minibatch acc epoch 40: 89.06%\n",
      "\n",
      "Average loss epoch 50: 0.3809497626997652\n",
      "Minibatch acc epoch 50: 86.72%\n",
      "Valid minibatch acc epoch 50: 87.50%\n",
      "\n",
      "\n",
      "========= For TensorBoard visualization type ===========\n",
      "\n",
      "tensorboard  --logdir=./graphs/24-07-2017_18-10-56\n",
      "\n"
     ]
    }
   ],
   "source": [
    "run_training(model, config, mnist)"
   ]
  },
  {
   "cell_type": "code",
   "execution_count": 10,
   "metadata": {
    "collapsed": false,
    "deletable": true,
    "editable": true
   },
   "outputs": [
    {
     "name": "stdout",
     "output_type": "stream",
     "text": [
      "Starting TensorBoard b'54' at http://felsal:6006\n",
      "(Press CTRL+C to quit)\n",
      "^C\n"
     ]
    }
   ],
   "source": [
    "# ! tensorboard  --logdir= "
   ]
  },
  {
   "cell_type": "markdown",
   "metadata": {
    "collapsed": false,
    "deletable": true,
    "editable": true
   },
   "source": [
    "## Now we can predict the images from the test dataset"
   ]
  },
  {
   "cell_type": "code",
   "execution_count": 11,
   "metadata": {
    "collapsed": false,
    "deletable": true,
    "editable": true
   },
   "outputs": [],
   "source": [
    "def predict(model, config, mnist):\n",
    "    \"\"\"\n",
    "    Generate some predictions using a batch from the test dataset\n",
    "\n",
    "    :type model: NeuralNetwork\n",
    "    :type config: Config\n",
    "    :type mnist: tensorflow.contrib.learn.python.learn.datasets.mnist.DataSet\n",
    "    :rtype X_batch: np array\n",
    "    :rtype prediction: np array\n",
    "    :rtype ground_truth: np array\n",
    "    \"\"\"\n",
    "    batch_size = config.batch_size\n",
    "    with tf.Session(graph=model.graph) as sess:\n",
    "        model.saver.restore(sess=sess, save_path=model.save_path)\n",
    "        X_batch, Y_batch = mnist.test.next_batch(batch_size)\n",
    "        feed_dict = {model.X: X_batch, model.Y: Y_batch}\n",
    "        predictions = sess.run(model.prediction,\n",
    "                                    feed_dict=feed_dict)\n",
    "    ground_truth = np.argmax(Y_batch, axis=1)\n",
    "    return X_batch, predictions, ground_truth"
   ]
  },
  {
   "cell_type": "markdown",
   "metadata": {
    "collapsed": true,
    "deletable": true,
    "editable": true
   },
   "source": [
    "## We can see if our predictions make sense"
   ]
  },
  {
   "cell_type": "code",
   "execution_count": 12,
   "metadata": {
    "collapsed": false,
    "deletable": true,
    "editable": true
   },
   "outputs": [
    {
     "name": "stdout",
     "output_type": "stream",
     "text": [
      "INFO:tensorflow:Restoring parameters from checkpoints/best_validation\n"
     ]
    },
    {
     "data": {
      "image/png": "[encoded data removed]",
      "text/plain": [
       "<matplotlib.figure.Figure at 0x7f843acad128>"
      ]
     },
     "metadata": {},
     "output_type": "display_data"
    }
   ],
   "source": [
    "images, prediction, ground_truth = predict(model, config, mnist)\n",
    "plot15images(images[0:15], ground_truth[0:15], img_shape, prediction[0:15])"
   ]
  },
  {
   "cell_type": "markdown",
   "metadata": {
    "deletable": true,
    "editable": true
   },
   "source": [
    "## We can also plot the confusion matrix"
   ]
  },
  {
   "cell_type": "code",
   "execution_count": 13,
   "metadata": {
    "collapsed": false,
    "deletable": true,
    "editable": true,
    "scrolled": false
   },
   "outputs": [
    {
     "data": {
      "image/png": "[encoded data removed]",
      "text/plain": [
       "<matplotlib.figure.Figure at 0x7f8489a16cc0>"
      ]
     },
     "metadata": {},
     "output_type": "display_data"
    }
   ],
   "source": [
    "plotconfusion(ground_truth, prediction)"
   ]
  },
  {
   "cell_type": "code",
   "execution_count": null,
   "metadata": {
    "collapsed": true,
    "deletable": true,
    "editable": true
   },
   "outputs": [],
   "source": []
  }
 ],
 "metadata": {
  "kernelspec": {
   "display_name": "Python 3",
   "language": "python",
   "name": "python3"
  },
  "language_info": {
   "codemirror_mode": {
    "name": "ipython",
    "version": 3
   },
   "file_extension": ".py",
   "mimetype": "text/x-python",
   "name": "python",
   "nbconvert_exporter": "python",
   "pygments_lexer": "ipython3",
   "version": "3.5.2"
  }
 },
 "nbformat": 4,
 "nbformat_minor": 1
}
